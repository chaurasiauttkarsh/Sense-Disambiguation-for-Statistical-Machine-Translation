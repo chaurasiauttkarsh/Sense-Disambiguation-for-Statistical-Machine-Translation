{
  "nbformat": 4,
  "nbformat_minor": 0,
  "metadata": {
    "colab": {
      "name": "Extract n sentences from dataset.ipynb",
      "provenance": [],
      "authorship_tag": "ABX9TyO1fMwWAIT1j0aqBUgw1oia",
      "include_colab_link": true
    },
    "kernelspec": {
      "name": "python3",
      "display_name": "Python 3"
    },
    "language_info": {
      "name": "python"
    }
  },
  "cells": [
    {
      "cell_type": "markdown",
      "metadata": {
        "id": "view-in-github",
        "colab_type": "text"
      },
      "source": [
        "<a href=\"https://colab.research.google.com/github/chaurasiauttkarsh/Sense-Disambiguation-for-Statistical-Machine-Translation/blob/main/Extract_n_sentences_from_dataset.ipynb\" target=\"_parent\"><img src=\"https://colab.research.google.com/assets/colab-badge.svg\" alt=\"Open In Colab\"/></a>"
      ]
    },
    {
      "cell_type": "code",
      "metadata": {
        "colab": {
          "base_uri": "https://localhost:8080/"
        },
        "id": "wC_0-pEF8nP8",
        "outputId": "5558257f-b08e-4f11-9008-be1288045a50"
      },
      "source": [
        "from google.colab import drive\n",
        "drive.mount('/content/gdrive')"
      ],
      "execution_count": 1,
      "outputs": [
        {
          "output_type": "stream",
          "name": "stdout",
          "text": [
            "Mounted at /content/gdrive\n"
          ]
        }
      ]
    },
    {
      "cell_type": "code",
      "metadata": {
        "id": "3aeNFSrm96zU"
      },
      "source": [
        "!head -n 600000 <\"input location/name.txt\"> \"output location/name.txt\" "
      ],
      "execution_count": 3,
      "outputs": []
    },
    {
      "cell_type": "markdown",
      "metadata": {
        "id": "6cv5z36F_nwU"
      },
      "source": [
        "Example\n"
      ]
    },
    {
      "cell_type": "code",
      "metadata": {
        "id": "9Ny15d0S-dfS"
      },
      "source": [
        "!head -n 600000 <\"/content/gdrive/MyDrive/monolingual.hi\"> \"/content/gdrive/MyDrive/NLP/hi_600000.txt\" \n"
      ],
      "execution_count": 4,
      "outputs": []
    }
  ]
}